{
  "nbformat": 4,
  "nbformat_minor": 0,
  "metadata": {
    "colab": {
      "name": "Untitled0.ipynb",
      "provenance": [],
      "authorship_tag": "ABX9TyMG3WEGTRVPwgOYe4DLcxXU",
      "include_colab_link": true
    },
    "kernelspec": {
      "name": "python3",
      "display_name": "Python 3"
    },
    "language_info": {
      "name": "python"
    }
  },
  "cells": [
    {
      "cell_type": "markdown",
      "metadata": {
        "id": "view-in-github",
        "colab_type": "text"
      },
      "source": [
        "<a href=\"https://colab.research.google.com/github/Ravisankar97/Devops/blob/master/Python.ipynb\" target=\"_parent\"><img src=\"https://colab.research.google.com/assets/colab-badge.svg\" alt=\"Open In Colab\"/></a>"
      ]
    },
    {
      "cell_type": "code",
      "metadata": {
        "colab": {
          "base_uri": "https://localhost:8080/"
        },
        "id": "y-xsME_VpK9Y",
        "outputId": "24157a4c-1bd8-4f8a-b7ac-e58b8624b555"
      },
      "source": [
        "print(\"Name\")\n",
        "name = input(\"What is your name \\n\")\n",
        "print(\"hello \"+ name ) \n",
        "print (type(name))\n",
        "b=4.5\n",
        "a= 'bala'\n",
        "print(a)\n",
        "print (type(b))\n",
        "print (type(a))\n",
        "\n",
        "2+6\n",
        "c= 4*5.7\n",
        "print(c)\n",
        "print (type(c))\n",
        "d= 4**5.7\n",
        "print(d)\n",
        "print (type(d))\n",
        "e,f,g = 5,6,7,\n",
        "print(e,f,g)\n",
        "e*=5\n",
        "print(e,f,g)\n",
        "username = \"Ravi97\"\n",
        "Password = \"Ravi\"\n",
        "Login = username + Password\n",
        "print (Login)\n",
        "t = int(input(\"what is your age\"))\n",
        "\n",
        "print (len(name))"
      ],
      "execution_count": 40,
      "outputs": [
        {
          "output_type": "stream",
          "text": [
            "Name\n",
            "What is your name \n",
            "uy\n",
            "hello uy\n",
            "<class 'str'>\n",
            "bala\n",
            "<class 'float'>\n",
            "<class 'str'>\n",
            "22.8\n",
            "<class 'float'>\n",
            "2702.3522012628882\n",
            "<class 'float'>\n",
            "5 6 7\n",
            "25 6 7\n",
            "Ravi97Ravi\n",
            "what is your age9\n",
            "2\n"
          ],
          "name": "stdout"
        }
      ]
    },
    {
      "cell_type": "code",
      "metadata": {
        "colab": {
          "base_uri": "https://localhost:8080/"
        },
        "id": "YeaNxjJXp_Ck",
        "outputId": "84d230a9-12e8-472f-ae60-f16b27f55e83"
      },
      "source": [
        "Quote = \" I am the best\"\n",
        "Quote.find('the')\n",
        "       \n",
        "\n"
      ],
      "execution_count": 44,
      "outputs": [
        {
          "output_type": "execute_result",
          "data": {
            "text/plain": [
              "6"
            ]
          },
          "metadata": {
            "tags": []
          },
          "execution_count": 44
        }
      ]
    }
  ]
}